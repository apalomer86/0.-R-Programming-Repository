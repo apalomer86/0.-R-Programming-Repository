{
 "cells": [
  {
   "cell_type": "code",
   "execution_count": 1,
   "id": "2394f5f9-1fff-4447-b185-70c785c79e8e",
   "metadata": {
    "tags": []
   },
   "outputs": [
    {
     "name": "stdout",
     "output_type": "stream",
     "text": [
      "[1] \"hell yeah\"\n"
     ]
    }
   ],
   "source": [
    "print(\"hell yeah\")"
   ]
  },
  {
   "cell_type": "code",
   "execution_count": null,
   "id": "6708b35f-7de3-4e4e-890b-6f7dae68ffa4",
   "metadata": {},
   "outputs": [],
   "source": []
  }
 ],
 "metadata": {
  "kernelspec": {
   "display_name": "R",
   "language": "R",
   "name": "ir"
  },
  "language_info": {
   "codemirror_mode": "r",
   "file_extension": ".r",
   "mimetype": "text/x-r-source",
   "name": "R",
   "pygments_lexer": "r",
   "version": "3.6.1"
  }
 },
 "nbformat": 4,
 "nbformat_minor": 5
}
