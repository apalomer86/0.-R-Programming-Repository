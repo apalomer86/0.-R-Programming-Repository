{
 "cells": [
  {
   "cell_type": "markdown",
   "id": "6f02e7fd-fad8-4587-92c1-2ca09450f049",
   "metadata": {},
   "source": [
    "Pink Box\n",
    "\n",
    "---\n",
    "__1. &emsp; R was developed by statisticians working at__\n",
    "\n",
    "---\n",
    "\n",
    "* No code or calculations here"
   ]
  },
  {
   "cell_type": "code",
   "execution_count": null,
   "id": "9e1dd608-82b4-4f4f-8915-15fa2fa23e34",
   "metadata": {},
   "outputs": [],
   "source": []
  },
  {
   "cell_type": "markdown",
   "id": "1358dde5-1a31-41bc-b9ef-f8cb29aa9fb0",
   "metadata": {
    "tags": []
   },
   "source": [
    "<br><br>"
   ]
  },
  {
   "cell_type": "markdown",
   "id": "44d89de7-67d8-4658-bcfb-d3e9e4128739",
   "metadata": {},
   "source": [
    "Pink Box\n",
    "\n",
    "---\n",
    "__2. &emsp; The definition of free software consists of four freedoms \n",
    "            (freedoms <br>&ensp;&emsp;&emsp;0 through 3). Which of the \n",
    "            following is NOT one of the freedoms that are \n",
    "            <br>&ensp;&emsp;&emsp;part of the definition?  Select all \n",
    "            that apply.__\n",
    "\n",
    "---\n",
    "\n",
    "* No code or calculations here"
   ]
  },
  {
   "cell_type": "code",
   "execution_count": null,
   "id": "c6f8e6c0-a623-48d6-99d5-f4d89e710333",
   "metadata": {},
   "outputs": [],
   "source": []
  },
  {
   "cell_type": "markdown",
   "id": "27919451-4523-4685-88f3-f8d35dc7d563",
   "metadata": {},
   "source": [
    "<br><br>"
   ]
  },
  {
   "cell_type": "markdown",
   "id": "172c25b9-4c3a-4f6d-bfac-2a11d170d1da",
   "metadata": {},
   "source": [
    "Pink Box\n",
    "\n",
    "---\n",
    "__3. &emsp; In R the following are all atomic data types EXCEPT: (Select \n",
    "            all that apply)__\n",
    "\n",
    "---\n",
    "\n",
    "* No code or calculations here"
   ]
  },
  {
   "cell_type": "code",
   "execution_count": null,
   "id": "06f04271-f340-4f86-9d1a-4f1dc66100e5",
   "metadata": {},
   "outputs": [],
   "source": []
  },
  {
   "cell_type": "markdown",
   "id": "5f1ca314-0490-403d-b877-3f4324fb70fe",
   "metadata": {},
   "source": [
    "<br><br>"
   ]
  },
  {
   "cell_type": "markdown",
   "id": "40a669a8-0225-4328-bb00-83ee2ed1a3a9",
   "metadata": {},
   "source": [
    "Red Box\n",
    "\n",
    "---\n",
    "__4. &emsp; If I execute the expression `x <- 4L` in R, what is the class \n",
    "            of the object `x` as <br>&emsp;&ensp;&emsp;determined by the `class()` function?__\n",
    "\n",
    "---"
   ]
  },
  {
   "cell_type": "code",
   "execution_count": 2,
   "id": "6cf31431-147b-4569-87dc-bb768e3d3d37",
   "metadata": {
    "tags": []
   },
   "outputs": [
    {
     "name": "stdout",
     "output_type": "stream",
     "text": [
      "[1] \"integer\"\n"
     ]
    }
   ],
   "source": [
    "x <- 4L\n",
    "print(class(x))"
   ]
  },
  {
   "cell_type": "code",
   "execution_count": null,
   "id": "1cbb2f92-af9f-4808-adce-7dd76ee42c03",
   "metadata": {},
   "outputs": [],
   "source": []
  },
  {
   "cell_type": "markdown",
   "id": "14d40cec-523e-4339-b2bc-e464a743cb18",
   "metadata": {},
   "source": [
    "<br><br>"
   ]
  },
  {
   "cell_type": "markdown",
   "id": "196e680a-bc7c-4157-b7a6-db79a3714d86",
   "metadata": {},
   "source": [
    "Pink Box\n",
    "\n",
    "---\n",
    "__5. &emsp; What is the class of the object defined by the expression \n",
    "            <br>&emsp;&ensp;&emsp;`x <- c(4, \"a\", TRUE)`?__\n",
    "\n",
    "---"
   ]
  },
  {
   "cell_type": "code",
   "execution_count": 1,
   "id": "2e1b2a6d-b811-433d-8f9c-669abc5b1e92",
   "metadata": {
    "tags": []
   },
   "outputs": [
    {
     "name": "stdout",
     "output_type": "stream",
     "text": [
      "[1] \"character\"\n"
     ]
    }
   ],
   "source": [
    "x <- c(4, \"a\", TRUE)\n",
    "print(class(x))"
   ]
  },
  {
   "cell_type": "code",
   "execution_count": null,
   "id": "9246bf23-f5d1-43af-9f8c-588b5bb2bf74",
   "metadata": {},
   "outputs": [],
   "source": []
  },
  {
   "cell_type": "markdown",
   "id": "cda88c10-64e4-45fc-a127-36a7cf167c3b",
   "metadata": {},
   "source": [
    "<br><br>"
   ]
  },
  {
   "cell_type": "markdown",
   "id": "d4f80c42-bc05-46cd-a46c-4ffb45a84c4e",
   "metadata": {},
   "source": [
    "Pink Box\n",
    "\n",
    "---\n",
    "__6. &emsp; If I have two vectors `x <- c(1,3, 5)` and \n",
    "            `y <- c(3, 2, 10)`, <br>&emsp;&ensp;&emsp;what is produced by \n",
    "            the expression `cbind(x, y)`?__\n",
    "\n",
    "---"
   ]
  },
  {
   "cell_type": "code",
   "execution_count": 2,
   "id": "018cf799-480a-4bb9-ad08-c6cf5ced023b",
   "metadata": {
    "tags": []
   },
   "outputs": [
    {
     "name": "stdout",
     "output_type": "stream",
     "text": [
      "     x  y\n",
      "[1,] 1  3\n",
      "[2,] 3  2\n",
      "[3,] 5 10\n"
     ]
    }
   ],
   "source": [
    "x <- c(1, 3, 5)\n",
    "y <- c(3, 2, 10)\n",
    "print(cbind(x, y))"
   ]
  },
  {
   "cell_type": "code",
   "execution_count": null,
   "id": "056e5e3c-61de-4a3f-a609-74154e0febce",
   "metadata": {},
   "outputs": [],
   "source": []
  },
  {
   "cell_type": "markdown",
   "id": "a47c8595-1661-4562-af15-3744eb9aea43",
   "metadata": {},
   "source": [
    "<br><br>"
   ]
  },
  {
   "cell_type": "markdown",
   "id": "3e2d8bf3-2e66-49d4-9d57-4ff07faf03f0",
   "metadata": {},
   "source": [
    "Pink Box\n",
    "\n",
    "---\n",
    "__7. &emsp; A key property of vectors in R is that__\n",
    "\n",
    "---\n",
    "\n",
    "* No code or calculations here"
   ]
  },
  {
   "cell_type": "code",
   "execution_count": null,
   "id": "0f6ab1b9-c6fa-48ff-b852-12964bd52f1b",
   "metadata": {},
   "outputs": [],
   "source": []
  },
  {
   "cell_type": "markdown",
   "id": "bfdd3463-be19-42cb-8410-3aad74f44ebc",
   "metadata": {},
   "source": [
    "<br><br>"
   ]
  },
  {
   "cell_type": "markdown",
   "id": "01241713-6ed8-46e1-a154-38bdcc9aabbf",
   "metadata": {},
   "source": [
    "Pink Box\n",
    "\n",
    "---\n",
    "__8. &emsp; Suppose I have a list defined as \n",
    "            `x <- list(2, \"a\", \"b\", TRUE)`. What \n",
    "            <br>&emsp;&ensp;&emsp;does `x[[2]]` give me? Select all that \n",
    "            apply.__\n",
    "\n",
    "---"
   ]
  },
  {
   "cell_type": "code",
   "execution_count": 10,
   "id": "08d93897-fdaf-4886-85ba-33f4a7943a74",
   "metadata": {
    "tags": []
   },
   "outputs": [
    {
     "data": {
      "text/html": [
       "'a'"
      ],
      "text/latex": [
       "'a'"
      ],
      "text/markdown": [
       "'a'"
      ],
      "text/plain": [
       "[1] \"a\""
      ]
     },
     "metadata": {},
     "output_type": "display_data"
    },
    {
     "name": "stdout",
     "output_type": "stream",
     "text": [
      "[1] \"character\"\n",
      "[1] 1\n",
      "[1] \"a\"\n"
     ]
    }
   ],
   "source": [
    "x <- list(2, \"a\", \"b\", TRUE)\n",
    "x[[2]]\n",
    "\n",
    "print(class(x[[2]]))\n",
    "print(length(x[[2]]))\n",
    "print(x[[2]])"
   ]
  },
  {
   "cell_type": "code",
   "execution_count": null,
   "id": "11282371-2301-43c7-89cb-f7afcc2c308b",
   "metadata": {
    "tags": []
   },
   "outputs": [],
   "source": []
  },
  {
   "cell_type": "markdown",
   "id": "0faadd94-d65b-469d-beee-a9792d36ee5a",
   "metadata": {},
   "source": [
    "<br><br>"
   ]
  },
  {
   "cell_type": "markdown",
   "id": "ea051cb4-2728-4807-a5f5-52dcbcecbc1e",
   "metadata": {},
   "source": [
    "Pink Box\n",
    "\n",
    "---\n",
    "__9. &emsp; Suppose I have a vector `x <- 1:4` and a vector `y <- 2`. \n",
    "            What is produced <br>&emsp;&ensp;&emsp;by the expression \n",
    "            `x + y`?__\n",
    "\n",
    "---"
   ]
  },
  {
   "cell_type": "code",
   "execution_count": 13,
   "id": "fc50e2c7-beca-43a0-b9f4-32ab4d53696f",
   "metadata": {
    "tags": []
   },
   "outputs": [
    {
     "data": {
      "text/html": [
       "<ol class=list-inline>\n",
       "\t<li>3</li>\n",
       "\t<li>4</li>\n",
       "\t<li>5</li>\n",
       "\t<li>6</li>\n",
       "</ol>\n"
      ],
      "text/latex": [
       "\\begin{enumerate*}\n",
       "\\item 3\n",
       "\\item 4\n",
       "\\item 5\n",
       "\\item 6\n",
       "\\end{enumerate*}\n"
      ],
      "text/markdown": [
       "1. 3\n",
       "2. 4\n",
       "3. 5\n",
       "4. 6\n",
       "\n",
       "\n"
      ],
      "text/plain": [
       "[1] 3 4 5 6"
      ]
     },
     "metadata": {},
     "output_type": "display_data"
    },
    {
     "name": "stdout",
     "output_type": "stream",
     "text": [
      "[1] 3 4 5 6\n"
     ]
    }
   ],
   "source": [
    "x <- 1:4\n",
    "y <- 2\n",
    "x + y\n",
    "\n",
    "\n",
    "print(x + y)"
   ]
  },
  {
   "cell_type": "code",
   "execution_count": null,
   "id": "0d2e72e7-efcd-4d36-b734-d5ce12886b97",
   "metadata": {},
   "outputs": [],
   "source": []
  },
  {
   "cell_type": "markdown",
   "id": "90e0cdbe-50fa-407c-b4fd-0e569753f06b",
   "metadata": {},
   "source": [
    "<br><br>"
   ]
  },
  {
   "cell_type": "markdown",
   "id": "e5e4cb5d-c39e-4a2f-8927-c96a93e99f46",
   "metadata": {},
   "source": [
    "Pink Box\n",
    "\n",
    "---\n",
    "__10. &emsp; Suppose I have a vector `x <- c(3, 5, 1, 10, 12, 6)` and I \n",
    "             want to set all <br>&emsp;&ensp; &emsp; elements of this \n",
    "             vector that are less than 6 to be equal to zero. What R code \n",
    "             <br>&emsp;&ensp; &emsp; achieves this? Select all that \n",
    "             apply.__\n",
    "\n",
    "---\n",
    "\n",
    "* No code or calculations here"
   ]
  },
  {
   "cell_type": "code",
   "execution_count": 17,
   "id": "3561f083-1863-4ce7-a3d7-c2a517b55f11",
   "metadata": {
    "tags": []
   },
   "outputs": [
    {
     "name": "stdout",
     "output_type": "stream",
     "text": [
      "[1]  3  5  1 10 12  6\n",
      "[1]  0  0  0 10 12  6\n"
     ]
    }
   ],
   "source": [
    "x <- c(3, 5, 1, 10, 12, 6)\n",
    "print(x)\n",
    "\n",
    "x[x%in% 1:5] <- 0\n",
    "print(x)"
   ]
  },
  {
   "cell_type": "code",
   "execution_count": 18,
   "id": "1baf8924-6ba4-47cb-94e3-bfb2e794b0a0",
   "metadata": {
    "tags": []
   },
   "outputs": [
    {
     "name": "stdout",
     "output_type": "stream",
     "text": [
      "[1]  3  5  1 10 12  6\n",
      "[1]  0  0  0 10 12  6\n"
     ]
    }
   ],
   "source": [
    "x <- c(3, 5, 1, 10, 12, 6)\n",
    "print(x)\n",
    "\n",
    "x[x < 6] <- 0\n",
    "print(x)"
   ]
  },
  {
   "cell_type": "code",
   "execution_count": null,
   "id": "38820419-713c-43f7-924c-a933ddeb22bd",
   "metadata": {},
   "outputs": [],
   "source": []
  },
  {
   "cell_type": "markdown",
   "id": "d138120c-015f-4bfe-b54d-0ebf56964f9e",
   "metadata": {},
   "source": [
    "<br><br>"
   ]
  },
  {
   "cell_type": "markdown",
   "id": "57dd309e-7b69-4540-a80a-a363acf25779",
   "metadata": {},
   "source": [
    "Pink Box\n",
    "\n",
    "---\n",
    "__11. &emsp; Use the [Week 1 Quiz Data Set](https://d396qusza40orc.cloudfront.net/rprog/data/quiz1_data.ziphttps://d396qusza40orc.cloudfront.net/rprog/data/quiz1_data.zip) to answer \n",
    "             questions 11-20. <br><br>&emsp;&ensp; &emsp; In the dataset \n",
    "             provided for this Quiz, what are the column names of the \n",
    "             <br>&emsp;&ensp; &emsp; dataset?__\n",
    "\n",
    "---\n",
    "\n",
    "* No code or calculations here"
   ]
  },
  {
   "cell_type": "code",
   "execution_count": null,
   "id": "00ba9c37-963d-476e-bfe0-df6b4b8c866e",
   "metadata": {},
   "outputs": [],
   "source": []
  },
  {
   "cell_type": "markdown",
   "id": "0605df5e-76d0-4d7f-bdf6-d79b0b2b4e42",
   "metadata": {},
   "source": [
    "<br><br>"
   ]
  },
  {
   "cell_type": "markdown",
   "id": "12fb00f7-ef50-481f-bf66-d3a8d94e6b2b",
   "metadata": {},
   "source": [
    "Pink Box\n",
    "\n",
    "---\n",
    "__12. &emsp; Extract the first 2 rows of the dataframe and print them to \n",
    "             the console. <br>&emsp;&ensp; &emsp; What does the output \n",
    "             look like now?__\n",
    "\n",
    "---\n",
    "\n",
    "* No code or calculations here"
   ]
  },
  {
   "cell_type": "code",
   "execution_count": null,
   "id": "73d4bf8d-cf73-44f2-9fc4-c354af97b48a",
   "metadata": {},
   "outputs": [],
   "source": []
  },
  {
   "cell_type": "markdown",
   "id": "bb287480-878a-4c50-9de8-67edfdf0cbe8",
   "metadata": {},
   "source": [
    "<br><br>"
   ]
  },
  {
   "cell_type": "markdown",
   "id": "4ec9d6e6-6d29-4b01-a675-2a67f0c5f151",
   "metadata": {},
   "source": [
    "Pink Box\n",
    "\n",
    "---\n",
    "__13. &emsp; How many observations (i.e. rows) are in this data frame?__\n",
    "\n",
    "---\n",
    "\n",
    "* No code or calculations here"
   ]
  },
  {
   "cell_type": "code",
   "execution_count": null,
   "id": "5b0ac4c2-185c-4b0a-af96-b2183e761149",
   "metadata": {},
   "outputs": [],
   "source": []
  },
  {
   "cell_type": "markdown",
   "id": "46a5868a-2dc3-4e1f-9f2b-d24819ef45b1",
   "metadata": {},
   "source": [
    "<br><br>"
   ]
  },
  {
   "cell_type": "markdown",
   "id": "f3bd70ed-a115-4557-b50c-60338ab8b3ce",
   "metadata": {},
   "source": [
    "Pink Box\n",
    "\n",
    "---\n",
    "__14. &emsp; Extract the _last_ 2 rows of the data frame and print them \n",
    "             to the console. <br>&emsp;&ensp; &emsp; What does the output \n",
    "             look like?__\n",
    "\n",
    "---\n",
    "\n",
    "* No code or calculations here"
   ]
  },
  {
   "cell_type": "code",
   "execution_count": null,
   "id": "772343af-15ba-4a5f-9a2f-95edc02375dc",
   "metadata": {},
   "outputs": [],
   "source": []
  },
  {
   "cell_type": "markdown",
   "id": "9a9a3b04-0cdb-464b-868e-fc076323a627",
   "metadata": {},
   "source": [
    "<br><br>"
   ]
  },
  {
   "cell_type": "markdown",
   "id": "a302014e-8b47-4c05-ad43-7ad82f1c6b0d",
   "metadata": {},
   "source": [
    "Pink Box\n",
    "\n",
    "---\n",
    "__15. &emsp; What is the value of Ozone in the 47th row?__\n",
    "\n",
    "---\n",
    "\n",
    "* No code or calculations here"
   ]
  },
  {
   "cell_type": "code",
   "execution_count": null,
   "id": "4f2e1633-b997-4b8a-8360-d606bb6ec53a",
   "metadata": {},
   "outputs": [],
   "source": []
  },
  {
   "cell_type": "markdown",
   "id": "2334df45-ab91-4002-bbb8-8cb676d0b672",
   "metadata": {},
   "source": [
    "<br><br>"
   ]
  },
  {
   "cell_type": "markdown",
   "id": "fe091f29-d2c5-4b75-8122-ab22dda654b6",
   "metadata": {},
   "source": [
    "Pink Box\n",
    "\n",
    "---\n",
    "__16. &emsp; How many missing values are in the Ozone column of this data \n",
    "             frame?__\n",
    "\n",
    "---\n",
    "\n",
    "* No code or calculations here"
   ]
  },
  {
   "cell_type": "code",
   "execution_count": null,
   "id": "b563620c-f853-441e-b0d8-c85709932c2e",
   "metadata": {},
   "outputs": [],
   "source": []
  },
  {
   "cell_type": "markdown",
   "id": "9c1ede12-5028-4e5b-91bf-e2376811af23",
   "metadata": {},
   "source": [
    "<br><br>"
   ]
  },
  {
   "cell_type": "markdown",
   "id": "b5384b7e-e04f-42ac-a55e-8ecb2f53f7e5",
   "metadata": {},
   "source": [
    "Pink Box\n",
    "\n",
    "---\n",
    "__17. &emsp; What is the mean of the Ozone column in this dataset? \n",
    "             Exclude missing <br>&emsp;&ensp; &emsp; values (coded as \n",
    "             `NA`) from this calculation.__\n",
    "\n",
    "---\n",
    "\n",
    "* No code or calculations here"
   ]
  },
  {
   "cell_type": "code",
   "execution_count": null,
   "id": "586e7d17-5aa7-42e3-b3ea-86db8d576e01",
   "metadata": {},
   "outputs": [],
   "source": []
  },
  {
   "cell_type": "markdown",
   "id": "73e2acce-22f3-4665-99dd-cb4db5808b32",
   "metadata": {},
   "source": [
    "<br><br>"
   ]
  },
  {
   "cell_type": "markdown",
   "id": "ca7c1269-631a-45bb-8d93-5489163479e9",
   "metadata": {},
   "source": [
    "Pink Box\n",
    "\n",
    "---\n",
    "__18. &emsp; Extract the subset of rows of the data frame where Ozone \n",
    "             values are above <br>&emsp;&ensp; &emsp; 31 and Temp values \n",
    "             are above 90. What is the mean of `Solar.R` in this \n",
    "             <br>&emsp;&ensp; &emsp; subset?__\n",
    "\n",
    "---\n",
    "\n",
    "* No code or calculations here"
   ]
  },
  {
   "cell_type": "code",
   "execution_count": null,
   "id": "c752e55c-f0c2-4e4d-9f31-969543a0d193",
   "metadata": {},
   "outputs": [],
   "source": []
  },
  {
   "cell_type": "markdown",
   "id": "9300f5be-79bb-4b47-ab98-df2ef1b3adfc",
   "metadata": {},
   "source": [
    "<br><br>"
   ]
  },
  {
   "cell_type": "markdown",
   "id": "6278534b-6db1-43f3-bf0f-8073bf21d9c7",
   "metadata": {},
   "source": [
    "Pink Box\n",
    "\n",
    "---\n",
    "__19. &emsp; What is the mean of \"Temp\" when \"Month\" is equal to 6?__\n",
    "\n",
    "---\n",
    "\n",
    "* No code or calculations here"
   ]
  },
  {
   "cell_type": "code",
   "execution_count": null,
   "id": "8d6d5d50-5260-4ce2-a9c3-bdcd683ac5e2",
   "metadata": {},
   "outputs": [],
   "source": []
  },
  {
   "cell_type": "markdown",
   "id": "f55e5207-7690-4c74-948b-d253d157f7d7",
   "metadata": {},
   "source": [
    "<br><br>"
   ]
  },
  {
   "cell_type": "markdown",
   "id": "8ad424f0-a25f-499d-8263-96254d054bb3",
   "metadata": {},
   "source": [
    "Pink Box\n",
    "\n",
    "---\n",
    "__20. &emsp; What was the maximum ozone value in the month of May (i.e. \n",
    "             Month is <br>&emsp;&ensp; &emsp; equal to 5)?__\n",
    "\n",
    "---\n",
    "\n",
    "* No code or calculations here"
   ]
  },
  {
   "cell_type": "code",
   "execution_count": null,
   "id": "ebef24f9-bb47-4253-868a-79dd5707a2d8",
   "metadata": {},
   "outputs": [],
   "source": []
  },
  {
   "cell_type": "code",
   "execution_count": null,
   "id": "07c13fc5-dd7c-4f56-a132-1182d1ff677f",
   "metadata": {},
   "outputs": [],
   "source": []
  },
  {
   "cell_type": "code",
   "execution_count": null,
   "id": "97141779-59e7-4a46-868a-23f345ab3451",
   "metadata": {},
   "outputs": [],
   "source": []
  }
 ],
 "metadata": {
  "kernelspec": {
   "display_name": "R",
   "language": "R",
   "name": "ir"
  },
  "language_info": {
   "codemirror_mode": "r",
   "file_extension": ".r",
   "mimetype": "text/x-r-source",
   "name": "R",
   "pygments_lexer": "r",
   "version": "3.6.1"
  }
 },
 "nbformat": 4,
 "nbformat_minor": 5
}
