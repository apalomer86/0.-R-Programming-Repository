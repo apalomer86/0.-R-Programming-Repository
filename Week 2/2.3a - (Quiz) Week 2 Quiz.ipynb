{
 "cells": [
  {
   "cell_type": "markdown",
   "id": "d6b34c97-ea98-4cc7-b760-254af5583344",
   "metadata": {},
   "source": [
    "Pink Box\n",
    "\n",
    "---\n",
    "__1. &emsp; Suppose I define the following function in R:__\n",
    "            \n",
    "            cube <- function(x, n) {\n",
    "                    x^3\n",
    "            }\n",
    "&emsp; &ensp; &emsp;__What is the result of running the code below in R \n",
    "            after defining this <br>&emsp; &ensp; &emsp;function?__\n",
    "\n",
    "            cube(3)\n",
    "\n",
    "---"
   ]
  },
  {
   "cell_type": "code",
   "execution_count": null,
   "id": "1304534b-01dd-40f4-be72-f76caa52265a",
   "metadata": {},
   "outputs": [],
   "source": []
  },
  {
   "cell_type": "markdown",
   "id": "198c5d5c-2403-40c0-ac64-e20d0625e3c2",
   "metadata": {},
   "source": [
    "<br><br>"
   ]
  },
  {
   "cell_type": "markdown",
   "id": "e4b9330f-266f-4e1c-87fb-3b684ac4c34b",
   "metadata": {},
   "source": [
    "Pink Box\n",
    "\n",
    "---\n",
    "__2. &emsp; The following code will produce a warning in R.__\n",
    "            \n",
    "            x <- 1:10\n",
    "            if(x > 5) {\n",
    "                    x <- 0\n",
    "            }\n",
    "&emsp; &ensp; &emsp;__Why?__\n",
    "\n",
    "---"
   ]
  },
  {
   "cell_type": "code",
   "execution_count": null,
   "id": "b2ca4950-d4dd-4a7a-90b2-902de12e3ec2",
   "metadata": {},
   "outputs": [],
   "source": []
  },
  {
   "cell_type": "markdown",
   "id": "45c020d7-3a14-41a3-a90b-146a838e35e9",
   "metadata": {},
   "source": [
    "<br><br>"
   ]
  },
  {
   "cell_type": "markdown",
   "id": "cda26aca-a208-4bbd-8c02-e4189ddac7bd",
   "metadata": {},
   "source": [
    "Pink Box\n",
    "\n",
    "---\n",
    "__3. &emsp; Consider the following function.__\n",
    "            \n",
    "            f <- function(x) {\n",
    "                     g <- function(y) {\n",
    "                              y + z\n",
    "            }\n",
    "            z <- 4\n",
    "            x + g(x)            \n",
    "&emsp;&ensp;&emsp;__If I then run the following in R__\n",
    "            \n",
    "            z <- 10\n",
    "            f(3)\n",
    "&emsp;&ensp;&emsp;__what value is returned?__\n",
    "\n",
    "---"
   ]
  },
  {
   "cell_type": "markdown",
   "id": "1eefb92b-5e8b-498f-a586-000af9b55739",
   "metadata": {},
   "source": []
  },
  {
   "cell_type": "markdown",
   "id": "8e48c5cc-eb2b-4d7e-af71-be74f7e80bf8",
   "metadata": {},
   "source": [
    "<br><br>"
   ]
  },
  {
   "cell_type": "markdown",
   "id": "40620518-10a4-485e-9027-446cd2e43caf",
   "metadata": {},
   "source": [
    "Pink Box\n",
    "\n",
    "---\n",
    "__4. &emsp; Consider the following expression.__\n",
    "            \n",
    "            x <- 5\n",
    "            y <- if(x < 3) {\n",
    "                    NA\n",
    "            } else {\n",
    "                    10\n",
    "            }\n",
    "&emsp;&ensp; &emsp;__What is the value of 'y' after evaluating this \n",
    "            expression?__\n",
    "\n",
    "---"
   ]
  },
  {
   "cell_type": "code",
   "execution_count": null,
   "id": "e9bacecd-fda3-4933-a7ee-8c0f1d2ccd16",
   "metadata": {},
   "outputs": [],
   "source": []
  },
  {
   "cell_type": "markdown",
   "id": "483d7fdf-04bd-4325-bd87-f02655e2a9e6",
   "metadata": {},
   "source": [
    "<br><br>"
   ]
  },
  {
   "cell_type": "markdown",
   "id": "56cafc0c-4ee3-431b-9971-a5ce70003afa",
   "metadata": {},
   "source": [
    "Pink Box\n",
    "\n",
    "---\n",
    "__5. &emsp; Consider the following R function.__\n",
    "            \n",
    "            h <- function(x, y = NULL, d = 3L) {\n",
    "                    z <- cbind (x, d)\n",
    "                    if(!is.null(y))\n",
    "                            z <- z + y\n",
    "                    else\n",
    "                            z <- z + f\n",
    "                    g <- z + y / z\n",
    "                    if(d == 3L)\n",
    "                            return(g)\n",
    "                    g <- g + 10\n",
    "                    g\n",
    "&emsp;&ensp;&emsp;__Which symbol in the above function is a free \n",
    "            variable?__\n",
    "\n",
    "---"
   ]
  },
  {
   "cell_type": "code",
   "execution_count": null,
   "id": "b6bfb25d-b72f-40cb-900e-fc377b86196a",
   "metadata": {},
   "outputs": [],
   "source": []
  },
  {
   "cell_type": "markdown",
   "id": "20ed88d9-a93c-4ff6-864b-a011cf630999",
   "metadata": {},
   "source": [
    "<br><br>"
   ]
  },
  {
   "cell_type": "markdown",
   "id": "c344995c-8631-4d8c-a0cd-c7a6ffa7fa4a",
   "metadata": {},
   "source": [
    "Pink Box\n",
    "\n",
    "---\n",
    "__6. &emsp; What is an enviroment in R?__\n",
    "\n",
    "---\n",
    "* No code or calculations here."
   ]
  },
  {
   "cell_type": "code",
   "execution_count": null,
   "id": "2695ece7-37be-4886-ba48-371f26a074d6",
   "metadata": {},
   "outputs": [],
   "source": []
  },
  {
   "cell_type": "markdown",
   "id": "efb4db63-63cf-4de8-b87f-8118adbd3392",
   "metadata": {},
   "source": [
    "<br><br>"
   ]
  },
  {
   "cell_type": "markdown",
   "id": "5d746de2-f855-4b48-ae90-d3d764ab3384",
   "metadata": {},
   "source": [
    "Pink Box\n",
    "\n",
    "---\n",
    "__7. &emsp; The R language uses what type of scoping rule for resolving \n",
    "            free variables?__\n",
    "\n",
    "---\n",
    "* No code or calculations here."
   ]
  },
  {
   "cell_type": "code",
   "execution_count": null,
   "id": "2a0e8da3-d9a3-4059-a311-f0ff6ce3bb5c",
   "metadata": {},
   "outputs": [],
   "source": []
  },
  {
   "cell_type": "markdown",
   "id": "df215179-688f-4043-9a3f-bbb616e3a944",
   "metadata": {},
   "source": [
    "<br><br>"
   ]
  },
  {
   "cell_type": "markdown",
   "id": "7c769bcf-b750-4e49-8403-0600f3ddbb40",
   "metadata": {},
   "source": [
    "Pink Box\n",
    "\n",
    "---\n",
    "__8. &emsp; How are free variables in R functions resolved?__\n",
    "\n",
    "---\n",
    "* No code or calculations here."
   ]
  },
  {
   "cell_type": "markdown",
   "id": "97acecc6-648f-4f60-928a-f610f933e976",
   "metadata": {},
   "source": []
  },
  {
   "cell_type": "markdown",
   "id": "929092b0-34dc-4d8c-8aec-fcd500e61fc8",
   "metadata": {},
   "source": [
    "<br><br>"
   ]
  },
  {
   "cell_type": "markdown",
   "id": "750726eb-8f54-4600-ae4b-6981635c405e",
   "metadata": {},
   "source": [
    "Pink Box\n",
    "\n",
    "---\n",
    "__9. &emsp; What is one of the consequences of the scoping rules in R?__\n",
    "\n",
    "---\n",
    "* No code or calculations here."
   ]
  },
  {
   "cell_type": "code",
   "execution_count": null,
   "id": "8a0259fc-773e-4984-adaf-9991c5e94882",
   "metadata": {},
   "outputs": [],
   "source": []
  },
  {
   "cell_type": "markdown",
   "id": "70bc6f5c-b6e8-4cca-9bac-98aa119377ab",
   "metadata": {},
   "source": [
    "<br><br>"
   ]
  },
  {
   "cell_type": "markdown",
   "id": "e7b6c9d6-c992-4e9c-b88b-ba24900ff1f1",
   "metadata": {},
   "source": [
    "Pink Box\n",
    "\n",
    "---\n",
    "__10. &emsp; In R, what is the parent frame?___\n",
    "\n",
    "---\n",
    "* No code or calculations here."
   ]
  },
  {
   "cell_type": "code",
   "execution_count": null,
   "id": "850a96dd-72a7-4438-811a-2899fe1dc258",
   "metadata": {},
   "outputs": [],
   "source": []
  }
 ],
 "metadata": {
  "kernelspec": {
   "display_name": "R",
   "language": "R",
   "name": "ir"
  },
  "language_info": {
   "codemirror_mode": "r",
   "file_extension": ".r",
   "mimetype": "text/x-r-source",
   "name": "R",
   "pygments_lexer": "r",
   "version": "3.6.1"
  }
 },
 "nbformat": 4,
 "nbformat_minor": 5
}
